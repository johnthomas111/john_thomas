{
 "cells": [
  {
   "cell_type": "code",
   "execution_count": 3,
   "metadata": {},
   "outputs": [
    {
     "name": "stdout",
     "output_type": "stream",
     "text": [
      "Hello World\n"
     ]
    }
   ],
   "source": [
    "print('Hello World')"
   ]
  },
  {
   "cell_type": "markdown",
   "metadata": {},
   "source": [
    "# PYTHON\n",
    "## PYTHON\n",
    "### PYTHON\n",
    "#### PYTHON\n"
   ]
  },
  {
   "cell_type": "markdown",
   "metadata": {},
   "source": [
    "### Markdown Format\n",
    "\n",
    "* **Python**\n",
    "* ***Python***"
   ]
  },
  {
   "cell_type": "code",
   "execution_count": 13,
   "metadata": {},
   "outputs": [
    {
     "data": {
      "text/plain": [
       "10"
      ]
     },
     "execution_count": 13,
     "metadata": {},
     "output_type": "execute_result"
    }
   ],
   "source": [
    "###Static Variables\n",
    "a=10\n",
    "a"
   ]
  },
  {
   "cell_type": "code",
   "execution_count": 12,
   "metadata": {},
   "outputs": [
    {
     "data": {
      "text/plain": [
       "15"
      ]
     },
     "execution_count": 12,
     "metadata": {},
     "output_type": "execute_result"
    }
   ],
   "source": [
    "a=5\n",
    "b=10\n",
    "c=a+b\n",
    "c"
   ]
  },
  {
   "cell_type": "code",
   "execution_count": 22,
   "metadata": {},
   "outputs": [
    {
     "name": "stdout",
     "output_type": "stream",
     "text": [
      "10\n",
      "20\n",
      "10\n",
      "20\n"
     ]
    }
   ],
   "source": [
    "###Dynamic Variables\n",
    "a=input()\n",
    "b=input()\n",
    "print(a)\n",
    "print(b)"
   ]
  },
  {
   "cell_type": "code",
   "execution_count": 24,
   "metadata": {},
   "outputs": [
    {
     "data": {
      "text/plain": [
       "str"
      ]
     },
     "execution_count": 24,
     "metadata": {},
     "output_type": "execute_result"
    }
   ],
   "source": [
    "type(a)"
   ]
  },
  {
   "cell_type": "code",
   "execution_count": 26,
   "metadata": {},
   "outputs": [
    {
     "name": "stdout",
     "output_type": "stream",
     "text": [
      "10\n",
      "20\n",
      "30\n"
     ]
    }
   ],
   "source": [
    "a=int(input())\n",
    "b=int(input())\n",
    "c=a+b\n",
    "print(c)"
   ]
  },
  {
   "cell_type": "code",
   "execution_count": 31,
   "metadata": {},
   "outputs": [
    {
     "name": "stdout",
     "output_type": "stream",
     "text": [
      "10\n",
      "20\n",
      "30.0\n"
     ]
    }
   ],
   "source": [
    "a=int(input())\n",
    "b=float(input())\n",
    "c=a+b\n",
    "print(c)"
   ]
  },
  {
   "cell_type": "code",
   "execution_count": 28,
   "metadata": {},
   "outputs": [
    {
     "name": "stdout",
     "output_type": "stream",
     "text": [
      "VIGNAN LARA\n",
      "welcome to VIGNAN LARA\n"
     ]
    }
   ],
   "source": [
    "v=input()\n",
    "print(\"welcome to\",v)"
   ]
  },
  {
   "cell_type": "code",
   "execution_count": 43,
   "metadata": {},
   "outputs": [
    {
     "data": {
      "text/plain": [
       "'welcome to VIGNAN LARA\\nPython'"
      ]
     },
     "execution_count": 43,
     "metadata": {},
     "output_type": "execute_result"
    }
   ],
   "source": [
    "#single line\n",
    "'''welcome to VIGNAN LARA\n",
    "Python'''"
   ]
  },
  {
   "cell_type": "code",
   "execution_count": null,
   "metadata": {},
   "outputs": [
    {
     "name": "stdout",
     "output_type": "stream",
     "text": [
      "\n",
      "Welcome to Python 3.8's help utility!\n",
      "\n",
      "If this is your first time using Python, you should definitely check out\n",
      "the tutorial on the Internet at https://docs.python.org/3.8/tutorial/.\n",
      "\n",
      "Enter the name of any module, keyword, or topic to get help on writing\n",
      "Python programs and using Python modules.  To quit this help utility and\n",
      "return to the interpreter, just type \"quit\".\n",
      "\n",
      "To get a list of available modules, keywords, symbols, or topics, type\n",
      "\"modules\", \"keywords\", \"symbols\", or \"topics\".  Each module also comes\n",
      "with a one-line summary of what it does; to list the modules whose name\n",
      "or summary contain a given string such as \"spam\", type \"modules spam\".\n",
      "\n",
      "help> keywords\n",
      "\n",
      "Here is a list of the Python keywords.  Enter any keyword to get more help.\n",
      "\n",
      "False               class               from                or\n",
      "None                continue            global              pass\n",
      "True                def                 if                  raise\n",
      "and                 del                 import              return\n",
      "as                  elif                in                  try\n",
      "assert              else                is                  while\n",
      "async               except              lambda              with\n",
      "await               finally             nonlocal            yield\n",
      "break               for                 not                 \n",
      "\n",
      "help> modules\n",
      "\n",
      "Please wait a moment while I gather a list of all available modules...\n",
      "\n"
     ]
    },
    {
     "name": "stderr",
     "output_type": "stream",
     "text": [
      "C:\\Users\\LAB\\anaconda3\\lib\\site-packages\\IPython\\kernel\\__init__.py:12: ShimWarning: The `IPython.kernel` package has been deprecated since IPython 4.0.You should import from ipykernel or jupyter_client instead.\n",
      "  warn(\"The `IPython.kernel` package has been deprecated since IPython 4.0.\"\n",
      "Matplotlib is building the font cache; this may take a moment.\n",
      "C:\\Users\\LAB\\anaconda3\\lib\\pkgutil.py:92: MatplotlibDeprecationWarning: \n",
      "The matplotlib.compat module was deprecated in Matplotlib 3.3 and will be removed two minor releases later.\n",
      "  __import__(info.name)\n",
      "C:\\Users\\LAB\\anaconda3\\lib\\site-packages\\nltk\\twitter\\__init__.py:21: UserWarning: The twython library has not been installed. Some functionality from the twitter package will not be available.\n",
      "  warnings.warn(\n",
      "C:\\Users\\LAB\\anaconda3\\lib\\site-packages\\skimage\\viewer\\utils\\__init__.py:1: UserWarning: Recommended matplotlib backend is `Agg` for full skimage.viewer functionality.\n",
      "  from .core import *\n"
     ]
    },
    {
     "name": "stdout",
     "output_type": "stream",
     "text": [
      "Update LANGUAGE_CODES (inside config/base.py) if a new translation has been added to Spyder\n"
     ]
    },
    {
     "name": "stderr",
     "output_type": "stream",
     "text": [
      "C:\\Users\\LAB\\anaconda3\\lib\\site-packages\\qtawesome\\iconic_font.py:311: UserWarning: You need to have a running QApplication to use QtAwesome!\n",
      "  warnings.warn(\"You need to have a running \"\n",
      "C:\\Users\\LAB\\anaconda3\\lib\\pkgutil.py:107: VisibleDeprecationWarning: zmq.eventloop.minitornado is deprecated in pyzmq 14.0 and will be removed.\n",
      "    Install tornado itself to use zmq with the tornado IOLoop.\n",
      "    \n",
      "  yield from walk_packages(path, info.name+'.', onerror)\n"
     ]
    },
    {
     "name": "stdout",
     "output_type": "stream",
     "text": [
      "Cython              brain_responses     marshal             socket\n",
      "IPython             brain_scipy_signal  math                socketserver\n",
      "OpenSSL             brain_six           matplotlib          socks\n",
      "PIL                 brain_ssl           mccabe              sockshandler\n",
      "PyQt5               brain_subprocess    menuinst            sortedcollections\n",
      "__future__          brain_threading     mimetypes           sortedcontainers\n",
      "_abc                brain_typing        mistune             soupsieve\n",
      "_ast                brain_uuid          mkl                 sphinx\n",
      "_asyncio            brotli              mkl_fft             sphinxcontrib\n",
      "_bisect             bs4                 mkl_random          spyder\n",
      "_blake2             builtins            mmap                spyder_kernels\n",
      "_bootlocale         bz2                 mmapfile            sqlalchemy\n",
      "_bz2                cProfile            mmsystem            sqlite3\n",
      "_cffi_backend       calendar            mock                sre_compile\n",
      "_codecs             certifi             modulefinder        sre_constants\n",
      "_codecs_cn          cffi                more_itertools      sre_parse\n",
      "_codecs_hk          cgi                 mpmath              ssl\n",
      "_codecs_iso2022     cgitb               msgpack             sspi\n",
      "_codecs_jp          chardet             msilib              sspicon\n",
      "_codecs_kr          chunk               msvcrt              stat\n",
      "_codecs_tw          click               multipledispatch    statistics\n",
      "_collections        cloudpickle         multiprocessing     statsmodels\n",
      "_collections_abc    clyent              nacl                storemagic\n",
      "_compat_pickle      cmath               navigator_updater   string\n",
      "_compression        cmd                 nbclient            stringprep\n",
      "_contextvars        code                nbconvert           struct\n",
      "_csv                codecs              nbformat            subprocess\n",
      "_ctypes             codeop              nest_asyncio        sunau\n",
      "_ctypes_test        collections         netbios             symbol\n",
      "_datetime           colorama            netrc               sympy\n",
      "_decimal            colorsys            networkx            sympyprinting\n",
      "_distutils_hack     commctrl            nltk                symtable\n",
      "_dummy_thread       compileall          nntplib             sys\n",
      "_elementtree        comtypes            nose                sysconfig\n",
      "_functools          concurrent          notebook            tables\n",
      "_hashlib            conda               nt                  tabnanny\n",
      "_heapq              conda_build         ntpath              tarfile\n",
      "_imp                conda_env           ntsecuritycon       tblib\n",
      "_io                 conda_package_handling nturl2path          telnetlib\n",
      "_json               conda_verify        numba               tempfile\n",
      "_locale             configparser        numbers             terminado\n",
      "_lsprof             contextlib          numexpr             test\n",
      "_lzma               contextlib2         numpy               test_data\n",
      "_markupbase         contextvars         numpydoc            test_pycosat\n",
      "_md5                copy                odbc                testpath\n",
      "_msi                copyreg             olefile             tests\n",
      "_multibytecodec     crypt               opcode              textwrap\n",
      "_multiprocessing    cryptography        openpyxl            this\n",
      "_nsis               csv                 operator            threading\n",
      "_opcode             ctypes              optparse            threadpoolctl\n",
      "_operator           curl                os                  time\n",
      "_osx_support        curses              packaging           timeit\n",
      "_overlapped         cwp                 pandas              timer\n",
      "_pickle             cycler              pandocfilters       tkinter\n",
      "_py_abc             cython              paramiko            tlz\n",
      "_pydecimal          cythonmagic         parser              token\n",
      "_pyio               cytoolz             parso               tokenize\n",
      "_pyrsistent_version dask                partd               toml\n",
      "_pytest             dataclasses         past                toolz\n",
      "_queue              datetime            path                tornado\n",
      "_random             dateutil            pathlib             tqdm\n",
      "_sha1               dbi                 pathlib2            trace\n",
      "_sha256             dbm                 pathtools           traceback\n",
      "_sha3               dde                 patsy               tracemalloc\n",
      "_sha512             decimal             pdb                 traitlets\n",
      "_signal             decorator           pep8                tty\n",
      "_sitebuiltins       defusedxml          perfmon             turtle\n",
      "_socket             diff_match_patch    pexpect             turtledemo\n",
      "_sqlite3            difflib             pickle              types\n",
      "_sre                dis                 pickleshare         typing\n",
      "_ssl                distributed         pickletools         typing_extensions\n",
      "_stat               distutils           pip                 ujson\n",
      "_statistics         doctest             pipes               unicodecsv\n",
      "_string             docutils            pkg_resources       unicodedata\n",
      "_strptime           dummy_threading     pkginfo             unittest\n",
      "_struct             easy_install        pkgutil             urllib\n",
      "_symtable           email               platform            urllib3\n",
      "_system_path        encodings           plistlib            uu\n",
      "_testbuffer         ensurepip           pluggy              uuid\n",
      "_testcapi           entrypoints         ply                 venv\n",
      "_testconsole        enum                poplib              w\n",
      "_testimportmultiple errno               posixpath           warnings\n",
      "_testinternalcapi   et_xmlfile          pprint              watchdog\n",
      "_testmultiphase     fastcache           profile             wave\n",
      "_thread             faulthandler        prometheus_client   wcwidth\n",
      "_threading_local    filecmp             prompt_toolkit      weakref\n",
      "_tkinter            fileinput           pstats              webbrowser\n",
      "_tracemalloc        filelock            psutil              webencodings\n",
      "_warnings           flake8              pty                 werkzeug\n",
      "_weakref            flask               pvectorc            wheel\n",
      "_weakrefset         fnmatch             py                  widgetsnbextension\n",
      "_win32sysloader     formatter           py_compile          win2kras\n",
      "_winapi             fractions           pyclbr              win32api\n",
      "_winxptheme         fsspec              pycodestyle         win32clipboard\n",
      "_xxsubinterpreters  ftplib              pycosat             win32com\n",
      "_yaml               functools           pycparser           win32con\n",
      "abc                 future              pycurl              win32console\n",
      "adodbapi            gc                  pydoc               win32cred\n",
      "afxres              genericpath         pydoc_data          win32crypt\n",
      "aifc                getopt              pydocstyle          win32cryptcon\n",
      "alabaster           getpass             pyexpat             win32ctypes\n",
      "anaconda_navigator  gettext             pyflakes            win32event\n",
      "anaconda_project    gevent              pygments            win32evtlog\n",
      "antigravity         glob                pylab               win32evtlogutil\n",
      "argh                glob2               pylint              win32file\n",
      "argon2              greenlet            pyls                win32gui\n",
      "argparse            gzip                pyls_jsonrpc        win32gui_struct\n",
      "array               h5py                pyodbc              win32help\n",
      "asn1crypto          hashlib             pyparsing           win32inet\n",
      "ast                 heapdict            pyreadline          win32inetcon\n",
      "astroid             heapq               pyrsistent          win32job\n",
      "astropy             hmac                pytest              win32lz\n",
      "async_generator     html                pythoncom           win32net\n",
      "asynchat            html5lib            pytz                win32netcon\n",
      "asyncio             http                pywin               win32pdh\n",
      "asyncore            idlelib             pywin32_bootstrap   win32pdhquery\n",
      "atexit              idna                pywin32_testutil    win32pdhutil\n",
      "atomicwrites        imageio             pywintypes          win32pipe\n",
      "attr                imagesize           pywt                win32print\n",
      "audioop             imaplib             pyximport           win32process\n",
      "autopep8            imghdr              qdarkstyle          win32profile\n",
      "autoreload          imp                 qtawesome           win32ras\n",
      "babel               importlib           qtconsole           win32rcparser\n",
      "backcall            importlib_metadata  qtpy                win32security\n",
      "backports           iniconfig           queue               win32service\n",
      "base64              inspect             quopri              win32serviceutil\n",
      "bcrypt              intervaltree        random              win32timezone\n",
      "bdb                 io                  rasutil             win32trace\n",
      "binascii            ipaddress           re                  win32traceutil\n",
      "binhex              ipykernel           readline            win32transaction\n",
      "binstar_client      ipykernel_launcher  regcheck            win32ts\n",
      "bisect              ipython_genutils    regex               win32ui\n",
      "bitarray            ipywidgets          regutil             win32uiole\n",
      "bkcharts            isapi               reprlib             win32verstamp\n",
      "bleach              isort               requests            win32wnet\n",
      "bokeh               isympy              rlcompleter         win_inet_pton\n",
      "boto                itertools           rmagic              win_unicode_console\n",
      "bottleneck          itsdangerous        rope                wincertstore\n",
      "brain_argparse      jdcal               rtree               winerror\n",
      "brain_attrs         jedi                ruamel_yaml         winioctlcon\n",
      "brain_boto3         jinja2              run                 winnt\n",
      "brain_builtin_inference joblib              runpy               winperf\n",
      "brain_collections   json                sample              winpty\n",
      "brain_crypt         json5               sched               winreg\n",
      "brain_curses        jsonschema          scipy               winsound\n",
      "brain_dataclasses   jupyter             scripts             winxpgui\n",
      "brain_dateutil      jupyter_client      seaborn             winxptheme\n",
      "brain_fstrings      jupyter_console     secrets             wrapt\n",
      "brain_functools     jupyter_core        select              wsgiref\n",
      "brain_gi            jupyterlab          selectors           xdrlib\n",
      "brain_hashlib       jupyterlab_pygments send2trash          xlrd\n",
      "brain_http          jupyterlab_server   servicemanager      xlsxwriter\n",
      "brain_io            keyring             setuptools          xlwings\n",
      "brain_mechanize     keyword             shelve              xlwt\n",
      "brain_multiprocessing kiwisolver          shlex               xml\n",
      "brain_namedtuple_enum lazy_object_proxy   shutil              xmlrpc\n",
      "brain_nose          lib2to3             signal              xmltodict\n",
      "brain_numpy_core_fromnumeric libarchive          simplegeneric       xxsubtype\n",
      "brain_numpy_core_function_base libfuturize         singledispatch      yaml\n",
      "brain_numpy_core_multiarray libpasteurize       singledispatch_helpers yapf\n",
      "brain_numpy_core_numeric lief                sip                 yapftests\n",
      "brain_numpy_core_numerictypes linecache           sipconfig           zict\n",
      "brain_numpy_core_umath llvmlite            sipdistutils        zipapp\n",
      "brain_numpy_ndarray locale              site                zipfile\n",
      "brain_numpy_random_mtrand locket              six                 zipimport\n",
      "brain_numpy_utils   logging             skimage             zipp\n",
      "brain_pkg_resources lxml                sklearn             zlib\n",
      "brain_pytest        lzma                smtpd               zmq\n",
      "brain_qt            mailbox             smtplib             zope\n",
      "brain_random        mailcap             sndhdr              \n",
      "brain_re            markupsafe          snowballstemmer     \n",
      "\n",
      "Enter any module name to get more help.  Or, type \"modules spam\" to search\n",
      "for modules whose name or summary contain the string \"spam\".\n",
      "\n"
     ]
    }
   ],
   "source": [
    "help()"
   ]
  },
  {
   "cell_type": "code",
   "execution_count": 2,
   "metadata": {},
   "outputs": [
    {
     "data": {
      "text/plain": [
       "True"
      ]
     },
     "execution_count": 2,
     "metadata": {},
     "output_type": "execute_result"
    }
   ],
   "source": [
    "import webbrowser\n",
    "webbrowser.open('http:\\\\www.youtube.com')"
   ]
  },
  {
   "cell_type": "code",
   "execution_count": 4,
   "metadata": {},
   "outputs": [
    {
     "data": {
      "text/plain": [
       "'Thu Apr 15 12:24:48 2021'"
      ]
     },
     "execution_count": 4,
     "metadata": {},
     "output_type": "execute_result"
    }
   ],
   "source": [
    "import time\n",
    "time.ctime()"
   ]
  },
  {
   "cell_type": "markdown",
   "metadata": {},
   "source": [
    "### Operators in Python\n",
    "* Arithmetic Operators\n",
    "* Assignment Operators\n",
    "* Comparison Operators\n",
    "* Logical Operators\n",
    "* Membership Operators\n",
    "* Identity Operators\n",
    "* Bitwise Operators"
   ]
  },
  {
   "cell_type": "code",
   "execution_count": 16,
   "metadata": {},
   "outputs": [
    {
     "name": "stdout",
     "output_type": "stream",
     "text": [
      "Enter a value:5\n",
      "Enter b value:10\n",
      "15\n",
      "-5\n",
      "50\n",
      "0.5\n",
      "5\n",
      "0\n",
      "9765625\n"
     ]
    }
   ],
   "source": [
    "# Arithmetic operators\n",
    "a=int(input(\"Enter a value:\"))\n",
    "b=int(input(\"Enter b value:\"))\n",
    "print(a+b)\n",
    "print(a-b)\n",
    "print(a*b)\n",
    "print(a/b)\n",
    "print(a%b)\n",
    "print(a//b)\n",
    "print(a**b)"
   ]
  },
  {
   "cell_type": "code",
   "execution_count": 21,
   "metadata": {},
   "outputs": [
    {
     "name": "stdout",
     "output_type": "stream",
     "text": [
      "8\n",
      "5\n",
      "20\n",
      "5\n",
      "5\n"
     ]
    }
   ],
   "source": [
    "#Assignment Operator\n",
    "a=5\n",
    "b=10\n",
    "a+=3\n",
    "print (a)\n",
    "a-=3\n",
    "print(a)\n",
    "b*=2\n",
    "print(b)\n",
    "a%=b\n",
    "print(a)\n",
    "b/=a\n",
    "print(a)"
   ]
  },
  {
   "cell_type": "code",
   "execution_count": 22,
   "metadata": {},
   "outputs": [
    {
     "name": "stdout",
     "output_type": "stream",
     "text": [
      "False\n",
      "True\n",
      "False\n",
      "True\n",
      "False\n",
      "True\n"
     ]
    }
   ],
   "source": [
    "#comparison Operators\n",
    "a=5\n",
    "b=10\n",
    "a==b\n",
    "print(a==b)\n",
    "print(a<b)\n",
    "print(a>b)\n",
    "print(a<=b)\n",
    "print(a>=b)\n",
    "print(a!=b)"
   ]
  },
  {
   "cell_type": "code",
   "execution_count": 30,
   "metadata": {},
   "outputs": [
    {
     "name": "stdout",
     "output_type": "stream",
     "text": [
      "True\n",
      "True\n",
      "False\n"
     ]
    }
   ],
   "source": [
    "#Logical Operator\n",
    "print(True and True)\n",
    "print(True or False)\n",
    "print(not True)"
   ]
  },
  {
   "cell_type": "code",
   "execution_count": 37,
   "metadata": {},
   "outputs": [
    {
     "name": "stdout",
     "output_type": "stream",
     "text": [
      "True\n"
     ]
    },
    {
     "data": {
      "text/plain": [
       "False"
      ]
     },
     "execution_count": 37,
     "metadata": {},
     "output_type": "execute_result"
    }
   ],
   "source": [
    "#Memebership Operators\n",
    "s=\"python\"\n",
    "print('p' in s)\n",
    "'y' not in s\n",
    "\n"
   ]
  },
  {
   "cell_type": "code",
   "execution_count": 45,
   "metadata": {},
   "outputs": [
    {
     "name": "stdout",
     "output_type": "stream",
     "text": [
      "False\n",
      "True\n",
      "False\n"
     ]
    },
    {
     "data": {
      "text/plain": [
       "True"
      ]
     },
     "execution_count": 45,
     "metadata": {},
     "output_type": "execute_result"
    }
   ],
   "source": [
    "#Identity Operators\n",
    "a=10\n",
    "b=20\n",
    "print(a is b)\n",
    "print(a is not b)\n",
    "a=[1,2,3,4,5]\n",
    "b=[1,2,3,4,5,6,7,8,9,10]\n",
    "print(a is b)\n",
    "a is not b\n"
   ]
  },
  {
   "cell_type": "code",
   "execution_count": 48,
   "metadata": {},
   "outputs": [
    {
     "name": "stdout",
     "output_type": "stream",
     "text": [
      "5\n",
      "10\n",
      "0\n",
      "15\n",
      "15\n",
      "40\n",
      "1\n"
     ]
    }
   ],
   "source": [
    "#Bitwise Opertors(&,|,<<,>>)\n",
    "a=int(input())\n",
    "b=int(input())\n",
    "print(a&b)\n",
    "print(a|b)\n",
    "print(a^b)\n",
    "print(a<<3)\n",
    "print(a>>2)\n"
   ]
  },
  {
   "cell_type": "code",
   "execution_count": 2,
   "metadata": {},
   "outputs": [
    {
     "name": "stdout",
     "output_type": "stream",
     "text": [
      "Enter a usernameThomas\n",
      "Enter a password123\n",
      "wrong password\n"
     ]
    }
   ],
   "source": [
    "n=input(\"Enter a username\")\n",
    "s=input(\"Enter a password\")\n",
    "p=\"Thomas\"\n",
    "g=\"john\"\n",
    "p1 =\"qwe\"\n",
    "p2 =\"123\"\n",
    "if n==p and s==p1:\n",
    "    print(\"logged\")\n",
    "elif(n==g and s==p2):\n",
    "    print(\"logged\")\n",
    "else:\n",
    "    print(\"wrong password\")"
   ]
  },
  {
   "cell_type": "code",
   "execution_count": null,
   "metadata": {},
   "outputs": [],
   "source": []
  }
 ],
 "metadata": {
  "kernelspec": {
   "display_name": "Python 3",
   "language": "python",
   "name": "python3"
  },
  "language_info": {
   "codemirror_mode": {
    "name": "ipython",
    "version": 3
   },
   "file_extension": ".py",
   "mimetype": "text/x-python",
   "name": "python",
   "nbconvert_exporter": "python",
   "pygments_lexer": "ipython3",
   "version": "3.8.5"
  }
 },
 "nbformat": 4,
 "nbformat_minor": 4
}
