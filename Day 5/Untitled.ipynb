{
 "cells": [
  {
   "cell_type": "code",
   "execution_count": 29,
   "metadata": {},
   "outputs": [
    {
     "name": "stdout",
     "output_type": "stream",
     "text": [
      "76.42857142857143\n"
     ]
    }
   ],
   "source": [
    "# class averages\n",
    "with open('dem.txt') as f:\n",
    "    data=f.read()\n",
    "    marks=data.split()\n",
    "    sum=0\n",
    "    for i in marks:\n",
    "        sum+=int(i)\n",
    "    print(sum/len(marks))"
   ]
  },
  {
   "cell_type": "code",
   "execution_count": 17,
   "metadata": {},
   "outputs": [
    {
     "name": "stdout",
     "output_type": "stream",
     "text": [
      "40.0\n"
     ]
    }
   ],
   "source": [
    "with open('dem.txt') as f:\n",
    "    data=f.read()\n",
    "    dem=data.split()\n",
    "    pc=0\n",
    "    for mark in dem:\n",
    "        if int(mark)>=35:\n",
    "            pc+=1\n",
    "    print(pc/len(dem)*100)\n",
    "            "
   ]
  },
  {
   "cell_type": "code",
   "execution_count": 26,
   "metadata": {},
   "outputs": [
    {
     "name": "stdout",
     "output_type": "stream",
     "text": [
      "71.42857142857143\n"
     ]
    }
   ],
   "source": [
    "with open('dem.txt') as p:\n",
    "    data=p.read()\n",
    "    marks=data.split()\n",
    "    dis=0\n",
    "    for i in marks:\n",
    "        if int(i)>=75:\n",
    "            dis+=1\n",
    "    print(dis/len(marks)*100)\n",
    "            "
   ]
  },
  {
   "cell_type": "code",
   "execution_count": 28,
   "metadata": {},
   "outputs": [
    {
     "name": "stdout",
     "output_type": "stream",
     "text": [
      "2\n",
      "1\n"
     ]
    }
   ],
   "source": [
    "with open('dem.txt') as p:\n",
    "    data=p.read()\n",
    "    marks=data.split()\n",
    "    print(marks.count(min(marks)))\n",
    "    print(marks.count(max(marks)))"
   ]
  },
  {
   "cell_type": "code",
   "execution_count": 45,
   "metadata": {},
   "outputs": [
    {
     "name": "stdout",
     "output_type": "stream",
     "text": [
      "10\n",
      "python\n",
      "online\n",
      "program\n",
      "20\n",
      "89.5\n"
     ]
    }
   ],
   "source": [
    "# variable length\n",
    "def var_len(num,*p):\n",
    "    num=10\n",
    "    print(num)\n",
    "    for i in p:\n",
    "        print(i)\n",
    "var_len(10,'python','online','program',20,89.5,)\n"
   ]
  },
  {
   "cell_type": "code",
   "execution_count": 37,
   "metadata": {},
   "outputs": [
    {
     "data": {
      "text/plain": [
       "['__class__',\n",
       " '__contains__',\n",
       " '__delattr__',\n",
       " '__delitem__',\n",
       " '__dir__',\n",
       " '__doc__',\n",
       " '__eq__',\n",
       " '__format__',\n",
       " '__ge__',\n",
       " '__getattribute__',\n",
       " '__getitem__',\n",
       " '__gt__',\n",
       " '__hash__',\n",
       " '__init__',\n",
       " '__init_subclass__',\n",
       " '__iter__',\n",
       " '__le__',\n",
       " '__len__',\n",
       " '__lt__',\n",
       " '__ne__',\n",
       " '__new__',\n",
       " '__reduce__',\n",
       " '__reduce_ex__',\n",
       " '__repr__',\n",
       " '__reversed__',\n",
       " '__setattr__',\n",
       " '__setitem__',\n",
       " '__sizeof__',\n",
       " '__str__',\n",
       " '__subclasshook__',\n",
       " 'clear',\n",
       " 'copy',\n",
       " 'fromkeys',\n",
       " 'get',\n",
       " 'items',\n",
       " 'keys',\n",
       " 'pop',\n",
       " 'popitem',\n",
       " 'setdefault',\n",
       " 'update',\n",
       " 'values']"
      ]
     },
     "execution_count": 37,
     "metadata": {},
     "output_type": "execute_result"
    }
   ],
   "source": [
    "dir(dict)"
   ]
  },
  {
   "cell_type": "code",
   "execution_count": 91,
   "metadata": {},
   "outputs": [
    {
     "name": "stdout",
     "output_type": "stream",
     "text": [
      "(3, 'z')\n",
      "y\n",
      "z\n",
      "y\n",
      "{1: 'x', 2: 'y', '3': 'z'}\n",
      "None\n"
     ]
    }
   ],
   "source": [
    "d={1:'x',2:'y',3:'z'}\n",
    "print(d.popitem())\n",
    "print(d.get(2))\n",
    "print(d.setdefault('3','z'))\n",
    "print(d.setdefault(2))\n",
    "print(d)\n",
    "print(d.update())"
   ]
  },
  {
   "cell_type": "code",
   "execution_count": 84,
   "metadata": {},
   "outputs": [
    {
     "name": "stdout",
     "output_type": "stream",
     "text": [
      "{1: 'prog'}\n",
      "{1: 'python'}\n"
     ]
    }
   ],
   "source": [
    "c={1:'prog'}\n",
    "c.setdefault(1,'python')\n",
    "print(c)\n",
    "c.update({1:'python'})\n",
    "print(c)"
   ]
  },
  {
   "cell_type": "code",
   "execution_count": 99,
   "metadata": {},
   "outputs": [
    {
     "data": {
      "text/plain": [
       "{'1': None, '2': None, '3': None, '4': None, '5': None}"
      ]
     },
     "execution_count": 99,
     "metadata": {},
     "output_type": "execute_result"
    }
   ],
   "source": [
    "#from keys\n",
    "t=('1','2','3','4','5')\n",
    "d=dict.fromkeys(t)\n",
    "d\n"
   ]
  },
  {
   "cell_type": "markdown",
   "metadata": {},
   "source": [
    "# Sets"
   ]
  },
  {
   "cell_type": "code",
   "execution_count": 119,
   "metadata": {},
   "outputs": [
    {
     "name": "stdout",
     "output_type": "stream",
     "text": [
      "<class 'set'>\n",
      "{1, 2, 3, 4}\n",
      "1 2 3 4 "
     ]
    }
   ],
   "source": [
    "k={1,2,3,4}\n",
    "print(type(k))\n",
    "print(set(k))\n",
    "for i in k:\n",
    "    print(i,end=\" \")"
   ]
  },
  {
   "cell_type": "code",
   "execution_count": 121,
   "metadata": {},
   "outputs": [
    {
     "data": {
      "text/plain": [
       "['__and__',\n",
       " '__class__',\n",
       " '__contains__',\n",
       " '__delattr__',\n",
       " '__dir__',\n",
       " '__doc__',\n",
       " '__eq__',\n",
       " '__format__',\n",
       " '__ge__',\n",
       " '__getattribute__',\n",
       " '__gt__',\n",
       " '__hash__',\n",
       " '__iand__',\n",
       " '__init__',\n",
       " '__init_subclass__',\n",
       " '__ior__',\n",
       " '__isub__',\n",
       " '__iter__',\n",
       " '__ixor__',\n",
       " '__le__',\n",
       " '__len__',\n",
       " '__lt__',\n",
       " '__ne__',\n",
       " '__new__',\n",
       " '__or__',\n",
       " '__rand__',\n",
       " '__reduce__',\n",
       " '__reduce_ex__',\n",
       " '__repr__',\n",
       " '__ror__',\n",
       " '__rsub__',\n",
       " '__rxor__',\n",
       " '__setattr__',\n",
       " '__sizeof__',\n",
       " '__str__',\n",
       " '__sub__',\n",
       " '__subclasshook__',\n",
       " '__xor__',\n",
       " 'add',\n",
       " 'clear',\n",
       " 'copy',\n",
       " 'difference',\n",
       " 'difference_update',\n",
       " 'discard',\n",
       " 'intersection',\n",
       " 'intersection_update',\n",
       " 'isdisjoint',\n",
       " 'issubset',\n",
       " 'issuperset',\n",
       " 'pop',\n",
       " 'remove',\n",
       " 'symmetric_difference',\n",
       " 'symmetric_difference_update',\n",
       " 'union',\n",
       " 'update']"
      ]
     },
     "execution_count": 121,
     "metadata": {},
     "output_type": "execute_result"
    }
   ],
   "source": [
    "dir(set)"
   ]
  },
  {
   "cell_type": "code",
   "execution_count": 157,
   "metadata": {},
   "outputs": [
    {
     "data": {
      "text/plain": [
       "{4, 5, 6, 7, 8, 9, 10}"
      ]
     },
     "execution_count": 157,
     "metadata": {},
     "output_type": "execute_result"
    }
   ],
   "source": [
    "k={1,2,3,4,5,6}\n",
    "k.add(7)\n",
    "k.update({8,9,10})   #pop,remove,discard\n",
    "k.pop()\n",
    "k.pop()\n",
    "k.remove(3)\n",
    "k.discard(11)\n",
    "k\n",
    "\n",
    "\n"
   ]
  },
  {
   "cell_type": "code",
   "execution_count": 202,
   "metadata": {},
   "outputs": [
    {
     "name": "stdout",
     "output_type": "stream",
     "text": [
      "{5, 6, 7, 8, 9}\n"
     ]
    }
   ],
   "source": [
    "k={1,2,3,4,5,6,7,8,9}\n",
    "k1={1,2,3,4}\n",
    "print(k.difference(k1))\n",
    "k1.difference_update(k)\n",
    "\n"
   ]
  },
  {
   "cell_type": "code",
   "execution_count": 237,
   "metadata": {},
   "outputs": [
    {
     "name": "stdout",
     "output_type": "stream",
     "text": [
      "{1, 2, 3, 4}\n",
      "{5, 6, 7, 8, 9}\n"
     ]
    },
    {
     "data": {
      "text/plain": [
       "{5, 6, 7, 8, 9}"
      ]
     },
     "execution_count": 237,
     "metadata": {},
     "output_type": "execute_result"
    }
   ],
   "source": [
    "k={1,2,3,4,7,8,9}\n",
    "k1={1,2,3,4,5,6}\n",
    "print(k.intersection(k1))                                            # k.intersection_update(k1)\n",
    "print(k.symmetric_difference(k1))\n",
    "k.symmetric_difference_update(k1)\n",
    "k\n",
    "\n",
    "\n",
    "\n"
   ]
  },
  {
   "cell_type": "code",
   "execution_count": 259,
   "metadata": {},
   "outputs": [
    {
     "name": "stdout",
     "output_type": "stream",
     "text": [
      "True\n",
      "True\n",
      "False\n"
     ]
    }
   ],
   "source": [
    "k={1,2,3,4,5,6,7,8,9}\n",
    "k1={1,2,3,4}\n",
    "print(k1.issubset(k))\n",
    "print(k.issuperset(k1))\n",
    "print(k1.isdisjoint(k))"
   ]
  },
  {
   "cell_type": "code",
   "execution_count": 294,
   "metadata": {},
   "outputs": [
    {
     "name": "stdout",
     "output_type": "stream",
     "text": [
      "Enter number:10\n",
      "**********\n",
      "*********\n",
      "********\n",
      "*******\n",
      "******\n",
      "*****\n",
      "****\n",
      "***\n",
      "**\n",
      "*\n",
      "\n"
     ]
    }
   ],
   "source": [
    "n=int(input(\"Enter number:\"))\n",
    "for i in range(0,n+1):\n",
    "    for j in range(n,i,-1):\n",
    "        print('*',end=\"\")\n",
    "    print()"
   ]
  },
  {
   "cell_type": "code",
   "execution_count": 1,
   "metadata": {},
   "outputs": [
    {
     "name": "stdout",
     "output_type": "stream",
     "text": [
      "Enter number:10\n",
      "\n",
      "*\n",
      "**\n",
      "***\n",
      "****\n",
      "*****\n",
      "******\n",
      "*******\n",
      "********\n",
      "*********\n",
      "**********\n"
     ]
    }
   ],
   "source": [
    "n=int(input(\"Enter number:\"))\n",
    "for i in range(0,n+1):\n",
    "    for j in range(0,i):\n",
    "        print('*',end=\"\")\n",
    "    print()"
   ]
  },
  {
   "cell_type": "markdown",
   "metadata": {},
   "source": []
  },
  {
   "cell_type": "markdown",
   "metadata": {},
   "source": [
    "# Object oriented programming language\n",
    "- Class\n",
    "- Object\n",
    "- Inheritance"
   ]
  },
  {
   "cell_type": "code",
   "execution_count": 32,
   "metadata": {},
   "outputs": [
    {
     "name": "stdout",
     "output_type": "stream",
     "text": [
      "3\n"
     ]
    }
   ],
   "source": [
    "class A:\n",
    "    def __init__(self,a):\n",
    "        print(a)\n",
    "b = A(3)"
   ]
  },
  {
   "cell_type": "code",
   "execution_count": 33,
   "metadata": {},
   "outputs": [
    {
     "name": "stdout",
     "output_type": "stream",
     "text": [
      "Thomas\n"
     ]
    }
   ],
   "source": [
    "class A:\n",
    "    def __init__(self):\n",
    "        print('Thomas')\n",
    "b = A()"
   ]
  },
  {
   "cell_type": "code",
   "execution_count": 42,
   "metadata": {},
   "outputs": [
    {
     "name": "stdout",
     "output_type": "stream",
     "text": [
      "factorial is: 24\n"
     ]
    }
   ],
   "source": [
    "class A:\n",
    "    def factorial(self,a):\n",
    "        fact=1\n",
    "        for i in range(1,a+1):\n",
    "            fact=fact*i\n",
    "        print(\"factorial is:\",fact)\n",
    "a=A()\n",
    "a.factorial(4)"
   ]
  },
  {
   "cell_type": "code",
   "execution_count": 56,
   "metadata": {},
   "outputs": [
    {
     "name": "stdout",
     "output_type": "stream",
     "text": [
      "enter a number:6\n"
     ]
    },
    {
     "data": {
      "text/plain": [
       "'it is a perfect number'"
      ]
     },
     "execution_count": 56,
     "metadata": {},
     "output_type": "execute_result"
    }
   ],
   "source": [
    "class A:\n",
    "    def perfect(self,a):\n",
    "        sum=0\n",
    "        for i in range(1,a):\n",
    "            if a%i==0:\n",
    "                sum+=i\n",
    "        if sum==a:\n",
    "            return \"it is a perfect number\"\n",
    "        else:\n",
    "            return \"it is not a perfect number\"\n",
    "a=A()\n",
    "n=int(input(\"enter a number:\"))\n",
    "a.perfect(n)"
   ]
  },
  {
   "cell_type": "code",
   "execution_count": 83,
   "metadata": {},
   "outputs": [
    {
     "data": {
      "text/plain": [
       "'it is prime number'"
      ]
     },
     "execution_count": 83,
     "metadata": {},
     "output_type": "execute_result"
    }
   ],
   "source": [
    "class B:\n",
    "    def prime(self,b):\n",
    "        flag=0\n",
    "        for i in range(1,b+1):\n",
    "            if b%i==0:\n",
    "                flag+=1\n",
    "        if flag==2:\n",
    "            return\"it is prime number\"\n",
    "        else:\n",
    "            return \"it is not a prime number\"\n",
    "b=B()\n",
    "b.prime(5)"
   ]
  },
  {
   "cell_type": "code",
   "execution_count": 106,
   "metadata": {},
   "outputs": [
    {
     "name": "stdout",
     "output_type": "stream",
     "text": [
      "welcome..\n"
     ]
    }
   ],
   "source": [
    "class NonParacons():\n",
    "    def __init__(self):\n",
    "        print('welcome..')\n",
    "b=NonParacons()\n",
    "    "
   ]
  },
  {
   "cell_type": "code",
   "execution_count": 101,
   "metadata": {},
   "outputs": [
    {
     "data": {
      "text/plain": [
       "12"
      ]
     },
     "execution_count": 101,
     "metadata": {},
     "output_type": "execute_result"
    }
   ],
   "source": [
    "class Paracons:\n",
    "    def __init__(self,a,b):\n",
    "        self.a=a\n",
    "        self.b=b\n",
    "    def add(self):\n",
    "        return self.a+self.b\n",
    "pc = Paracons(10,2)\n",
    "pc.add()"
   ]
  },
  {
   "cell_type": "code",
   "execution_count": 137,
   "metadata": {},
   "outputs": [
    {
     "name": "stdout",
     "output_type": "stream",
     "text": [
      "20\n"
     ]
    }
   ],
   "source": [
    "class A:\n",
    "    def __init__(self,a=10,b=10):\n",
    "        self.a=a\n",
    "        self.b=b\n",
    "        print(self.a+self.b)\n",
    "pc=A()"
   ]
  },
  {
   "cell_type": "code",
   "execution_count": 123,
   "metadata": {},
   "outputs": [
    {
     "name": "stdout",
     "output_type": "stream",
     "text": [
      "From Child class\n",
      "From Parent class\n"
     ]
    }
   ],
   "source": [
    "class A():\n",
    "    a=1\n",
    "    def ca():\n",
    "        return'From Parent class'\n",
    "class B(A):\n",
    "    b=2\n",
    "    def cb():\n",
    "        return'From Child class'\n",
    "obj=B\n",
    "print(obj.cb())\n",
    "print(obj.ca())"
   ]
  },
  {
   "cell_type": "code",
   "execution_count": 127,
   "metadata": {},
   "outputs": [
    {
     "name": "stdout",
     "output_type": "stream",
     "text": [
      "From Parent class\n",
      "From Child class\n",
      "From Parent class\n"
     ]
    }
   ],
   "source": [
    "class A():\n",
    "    a=1\n",
    "    def ca():\n",
    "        return'From Parent class'\n",
    "class B(A):\n",
    "    b=2\n",
    "    def cb():\n",
    "        return'From Child class'\n",
    "class C(B):\n",
    "    c=3\n",
    "    def cc():\n",
    "        return'From Parent class'\n",
    "obj=C\n",
    "print(obj.ca())\n",
    "print(obj.cb())\n",
    "print(obj.cc())\n"
   ]
  },
  {
   "cell_type": "code",
   "execution_count": 145,
   "metadata": {},
   "outputs": [
    {
     "name": "stdout",
     "output_type": "stream",
     "text": [
      "From Child class\n",
      "From Parent class\n",
      "From Parent class\n",
      "From Parent class\n"
     ]
    }
   ],
   "source": [
    "class A:\n",
    "    a=1\n",
    "    def ca():\n",
    "        return'From Parent class'\n",
    "class B(A):\n",
    "    b=2\n",
    "    def cb():\n",
    "        return'From Child class'\n",
    "class C(A):\n",
    "    c=3\n",
    "    def cc():\n",
    "        return'From Parent class'\n",
    "obj1=C\n",
    "obj2=B\n",
    "print(obj2.cb())\n",
    "print(obj2.ca())\n",
    "print(obj1.cc())\n",
    "print(obj1.ca())"
   ]
  },
  {
   "cell_type": "code",
   "execution_count": 147,
   "metadata": {},
   "outputs": [
    {
     "name": "stdout",
     "output_type": "stream",
     "text": [
      "From Parent class\n",
      "From Parent class\n",
      "From Chld class\n"
     ]
    }
   ],
   "source": [
    "class A:\n",
    "    a=1\n",
    "    def ca():\n",
    "        return'From Parent class'\n",
    "class B:\n",
    "    b=2\n",
    "    def cb():\n",
    "        return'From Parent class'\n",
    "class C(A,B):\n",
    "    c=3\n",
    "    def cc():\n",
    "        return'From Chld class'\n",
    "obj=C\n",
    "print(obj.ca())\n",
    "print(obj.cb())\n",
    "print(obj.cc())\n"
   ]
  },
  {
   "cell_type": "code",
   "execution_count": 152,
   "metadata": {},
   "outputs": [
    {
     "ename": "SyntaxError",
     "evalue": "invalid syntax (<ipython-input-152-3ab5bba161fa>, line 1)",
     "output_type": "error",
     "traceback": [
      "\u001b[1;36m  File \u001b[1;32m\"<ipython-input-152-3ab5bba161fa>\"\u001b[1;36m, line \u001b[1;32m1\u001b[0m\n\u001b[1;33m    from class/cls.txt import class A\u001b[0m\n\u001b[1;37m         ^\u001b[0m\n\u001b[1;31mSyntaxError\u001b[0m\u001b[1;31m:\u001b[0m invalid syntax\n"
     ]
    }
   ],
   "source": [
    "from class/cls.txt import class A"
   ]
  },
  {
   "cell_type": "code",
   "execution_count": null,
   "metadata": {},
   "outputs": [],
   "source": []
  }
 ],
 "metadata": {
  "kernelspec": {
   "display_name": "Python 3",
   "language": "python",
   "name": "python3"
  },
  "language_info": {
   "codemirror_mode": {
    "name": "ipython",
    "version": 3
   },
   "file_extension": ".py",
   "mimetype": "text/x-python",
   "name": "python",
   "nbconvert_exporter": "python",
   "pygments_lexer": "ipython3",
   "version": "3.8.5"
  }
 },
 "nbformat": 4,
 "nbformat_minor": 4
}
